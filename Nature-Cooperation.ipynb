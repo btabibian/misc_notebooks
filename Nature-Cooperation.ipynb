{
 "cells": [
  {
   "cell_type": "code",
   "execution_count": 19,
   "metadata": {
    "slideshow": {
     "slide_type": "skip"
    }
   },
   "outputs": [
    {
     "data": {
      "text/html": [
       "\n",
       "<style>\n",
       ".output_png {\n",
       "    display: table-cell;\n",
       "    text-align: center;\n",
       "    vertical-align: middle;\n",
       "}\n",
       "</style>\n"
      ],
      "text/plain": [
       "<IPython.core.display.HTML object>"
      ]
     },
     "execution_count": 19,
     "metadata": {},
     "output_type": "execute_result"
    }
   ],
   "source": [
    "%matplotlib inline\n",
    "from IPython.core.display import HTML\n",
    "HTML(\"\"\"\n",
    "<style>\n",
    ".output_png {\n",
    "    display: table-cell;\n",
    "    text-align: center;\n",
    "    vertical-align: middle;\n",
    "}\n",
    "</style>\n",
    "\"\"\")"
   ]
  },
  {
   "cell_type": "code",
   "execution_count": 20,
   "metadata": {
    "collapsed": true
   },
   "outputs": [],
   "source": [
    "import numpy as np\n",
    "import pandas as pd\n",
    "import matplotlib.pyplot as plt\n",
    "import seaborn as sns\n",
    "from scipy import integrate\n",
    "from scipy import linalg\n",
    "import ipywidgets as widgets\n",
    "from IPython.display import display, clear_output\n",
    "import matplotlib.gridspec as gridspec\n",
    "sns.set_context(\"talk\")\n",
    "sns.set_style(\"whitegrid\")"
   ]
  },
  {
   "cell_type": "markdown",
   "metadata": {
    "slideshow": {
     "slide_type": "slide"
    }
   },
   "source": [
    "# Hacking into Evolutionary Dynamics!\n",
    "\n",
    "This Jupyter notebook implements some of the ideas in following two books, specifically chapters 1-5 in *Evolutionary Dynamics*. For better undrestanding of the equations and code please consult the books and relevant papers."
   ]
  },
  {
   "cell_type": "code",
   "execution_count": 21,
   "metadata": {
    "slideshow": {
     "slide_type": "subslide"
    }
   },
   "outputs": [
    {
     "data": {
      "text/html": [
       "<div >\n",
       "<iframe type=\"text/html\" width=\"336\" height=\"550\" frameborder=\"0\" allowfullscreen style=\"max-width:100%;float: left\" src=\"https://lesen.amazon.de/kp/card?asin=B003UV8TC2&preview=inline&linkCode=kpe&ref_=cm_sw_r_kb_dp_MamPyb1NWT7A8\" ></iframe>\n",
       "</div>\n",
       "<div >\n",
       "<iframe type=\"text/html\" width=\"336\" height=\"550\" frameborder=\"0\" allowfullscreen style=\"max-width:100%;float: right\" src=\"https://lesen.amazon.de/kp/card?asin=B00J97FFRI&preview=inline&linkCode=kpe&ref_=cm_sw_r_kb_dp_PfmPyb5ZV4AP8\" ></iframe>\n",
       "</div>"
      ],
      "text/plain": [
       "<IPython.core.display.HTML object>"
      ]
     },
     "metadata": {},
     "output_type": "display_data"
    }
   ],
   "source": [
    "%%html\n",
    "<div >\n",
    "<iframe type=\"text/html\" width=\"336\" height=\"550\" frameborder=\"0\" allowfullscreen style=\"max-width:100%;float: left\" src=\"https://lesen.amazon.de/kp/card?asin=B003UV8TC2&preview=inline&linkCode=kpe&ref_=cm_sw_r_kb_dp_MamPyb1NWT7A8\" ></iframe>\n",
    "</div>\n",
    "<div >\n",
    "<iframe type=\"text/html\" width=\"336\" height=\"550\" frameborder=\"0\" allowfullscreen style=\"max-width:100%;float: right\" src=\"https://lesen.amazon.de/kp/card?asin=B00J97FFRI&preview=inline&linkCode=kpe&ref_=cm_sw_r_kb_dp_PfmPyb5ZV4AP8\" ></iframe>\n",
    "</div>\n"
   ]
  },
  {
   "cell_type": "markdown",
   "metadata": {
    "slideshow": {
     "slide_type": "slide"
    }
   },
   "source": [
    "# Evolution"
   ]
  },
  {
   "cell_type": "markdown",
   "metadata": {
    "slideshow": {
     "slide_type": "fragment"
    }
   },
   "source": [
    "### Basic model\n",
    "\n",
    "\\begin{align*}\n",
    "\\dot{x} = \\frac{dx}{dt} = (r-d)x(1-x/K)\n",
    "\\end{align*}\n",
    "\n",
    "+ $r$: reproduction rate\n",
    "+ $d$: hazard rate\n",
    "+ $K$: Maximum capacity"
   ]
  },
  {
   "cell_type": "code",
   "execution_count": 22,
   "metadata": {
    "collapsed": true,
    "slideshow": {
     "slide_type": "skip"
    }
   },
   "outputs": [],
   "source": [
    "fig = plt.figure()\n",
    "plt.close(fig)\n",
    "def oneCell(r,d,max_x):\n",
    "  clear_output(wait=True)\n",
    "  t_f = 10 \n",
    "  dt = 0.1\n",
    "  def int_(t,x):\n",
    "    dev = x*(r-d)\n",
    "    if max_x != None:\n",
    "      dev *= (1-x/max_x)\n",
    "    #print(\"dev\",dev,x)\n",
    "    return dev\n",
    "\n",
    "  integ = integrate.ode(int_)\n",
    "  y = np.zeros(int(t_f/dt)+1)\n",
    "  x = np.zeros(int(t_f/dt)+1)\n",
    "  xdot = np.zeros(int(t_f/dt)+1)\n",
    "  integ.set_integrator(\"dopri5\").set_initial_value(0.01)\n",
    "  i = 0\n",
    "  while integ.successful() and integ.t<t_f:\n",
    "    y[i] = integ.y\n",
    "    x[i] = integ.t\n",
    "    xdot[i] = int_(integ.t,y[i])\n",
    "    integ.integrate(integ.t+dt)\n",
    "    i=i+1\n",
    "  fig.clf()\n",
    "  ax = fig.gca()\n",
    "  ax.plot(x,y,label=\"population size\")\n",
    "  ax.set_ylim(-0.6,3.0)\n",
    "  ax.set_xlabel(\"time\")\n",
    "  ax.set_ylabel(\"population size\")\n",
    "  \n",
    "  ax2 = ax.twinx()\n",
    "  with sns.color_palette(\"PuBuGn_d\",n_colors=1):\n",
    "    ax2.plot(x, xdot, label=\"derivative\",linestyle='--')\n",
    "  ax2.set_ylabel('$\\dot{x}$', rotation=0)\n",
    "  ax2.grid('off')\n",
    "  ax.legend(loc=2)\n",
    "  ax2.legend()\n",
    "  ax2.set_ylim(0.,0.25)\n",
    "  display(fig)\n",
    "  return"
   ]
  },
  {
   "cell_type": "code",
   "execution_count": 23,
   "metadata": {
    "scrolled": false,
    "slideshow": {
     "slide_type": "subslide"
    }
   },
   "outputs": [
    {
     "data": {
      "application/vnd.jupyter.widget-view+json": {
       "model_id": "fdd376c07a2f424b93fd7c0be8947d3d"
      }
     },
     "metadata": {},
     "output_type": "display_data"
    }
   ],
   "source": [
    "items = [\n",
    "  widgets.FloatSlider(\n",
    "    value=1.5,\n",
    "    min=0,\n",
    "    max=2.0,\n",
    "    step=0.01,\n",
    "    description=\"r\",layout=widgets.Layout(width='100%', height='80px'))\n",
    "  ,widgets.FloatSlider(\n",
    "    value=.0,\n",
    "    min=0,\n",
    "    max=2.0,\n",
    "    step=0.01,\n",
    "    description=\"d\",layout=widgets.Layout(width='100%', height='80px'))]\n",
    "max_k = [widgets.FloatSlider(\n",
    "    value=1.5,\n",
    "    min=1,\n",
    "    max=2.0,\n",
    "    step=0.01,\n",
    "    description=\"K\",layout=widgets.Layout(width='100%', height='80px')),\n",
    "        widgets.Checkbox(\n",
    "    value=False,\n",
    "    description=\"enforce K\",layout=widgets.Layout(width='100%', height='80px'))]\n",
    "\n",
    "def call_back_r(v):\n",
    "  if max_k[1].value is False:\n",
    "    return oneCell(items[0].value,items[1].value,None)\n",
    "  else:\n",
    "    return oneCell(items[0].value,items[1].value,max_k[0].value)\n",
    "\n",
    "box_h = widgets.VBox(items,layout=widgets.Layout(width='100%', height='80px'))\n",
    "box_h_max = widgets.VBox(items,layout=widgets.Layout(width='100%', height='80px'))\n",
    "box = widgets.VBox([box_h]+[widgets.HBox(max_k)])\n",
    "items[0].observe(call_back_r,names='value')\n",
    "items[1].observe(call_back_r,names='value')\n",
    "max_k[0].observe(call_back_r,names='value')\n",
    "max_k[1].observe(call_back_r,names='value')\n",
    "display(box)"
   ]
  },
  {
   "cell_type": "markdown",
   "metadata": {
    "slideshow": {
     "slide_type": "slide"
    }
   },
   "source": [
    "# Selection-Mutation"
   ]
  },
  {
   "cell_type": "markdown",
   "metadata": {
    "slideshow": {
     "slide_type": "fragment"
    }
   },
   "source": [
    "> Selection operates whenever different types of individuals reproduce at different rates.\n",
    "\n",
    "\\begin{align*}\n",
    "\\dot{\\vec{x}} =\\vec{x}Q-\\phi\\vec{x}.\n",
    "\\end{align*}\n",
    "\n",
    "+ $\\vec{x}$: population ratio of type $i$.\n",
    "+ $Q$: Mutation matrix.\n",
    "+ $\\phi$: average fitness"
   ]
  },
  {
   "cell_type": "code",
   "execution_count": 24,
   "metadata": {
    "collapsed": true,
    "slideshow": {
     "slide_type": "subslide"
    }
   },
   "outputs": [],
   "source": [
    "fig = plt.figure()\n",
    "plt.close(fig)\n",
    "def twoCell(init_,rate):\n",
    "  clear_output(wait=True)\n",
    "  t_f = 10 \n",
    "  dt = 0.1\n",
    "  update_rate = np.asarray(rate)\n",
    "  def int_(t,x):\n",
    "    dev = x.T.dot(update_rate)-x\n",
    "    return dev\n",
    "\n",
    "  integ = integrate.ode(int_)\n",
    "  y = np.zeros((int(t_f/dt)+1,update_rate.shape[0]))\n",
    "  x = np.zeros((int(t_f/dt)+1,update_rate.shape[0]))\n",
    "  xdot = np.zeros((int(t_f/dt)+1,update_rate.shape[0]))\n",
    "  integ.set_integrator(\"dopri5\").set_initial_value(np.asarray(init_))\n",
    "  i = 0\n",
    "  while integ.successful() and integ.t<t_f:\n",
    "    y[i,:] = integ.y\n",
    "    x[i,:] = integ.t\n",
    "    xdot[i,:] = int_(integ.t,y[i,:])\n",
    "    integ.integrate(integ.t+dt)\n",
    "    i=i+1\n",
    "  fig.clf()\n",
    "  ax = fig.gca()\n",
    "  with sns.color_palette(\"PuBuGn_d\",n_colors=x.shape[1]):\n",
    "    for ind_ in range(x.shape[1]):\n",
    "      ax.plot(x[:,ind_], y[:,ind_], label=\"type \"+str(ind_ +1))\n",
    "  \n",
    "  ax.set_ylim(-0.1,1.1)\n",
    "  ax.set_xlabel(\"time\")\n",
    "  ax.set_ylabel(\"population ratio\")\n",
    "  \n",
    "  ax2 = ax.twinx()\n",
    "  with sns.color_palette(\"PuBuGn_d\",n_colors=x.shape[1]):\n",
    "    for ind_ in range(x.shape[1]):\n",
    "      ax2.plot(x[:,ind_], xdot[:,ind_], label=\"d type \"+str(ind_ +1),linestyle='--')\n",
    "  ax2.set_ylabel('$\\dot{x}$', rotation=0)\n",
    "  ax2.grid('off')\n",
    "  ax.legend(ncol=x.shape[1])\n",
    "  ax2.legend(loc=4,ncol=x.shape[1])\n",
    "  display(fig)\n",
    "  return"
   ]
  },
  {
   "cell_type": "code",
   "execution_count": 25,
   "metadata": {
    "scrolled": false,
    "slideshow": {
     "slide_type": "subslide"
    }
   },
   "outputs": [
    {
     "data": {
      "image/png": "[encoded data removed]",
      "text/plain": [
       "<matplotlib.figure.Figure at 0x7f743c4f2ac8>"
      ]
     },
     "metadata": {},
     "output_type": "display_data"
    }
   ],
   "source": [
    "items_mute = [\n",
    "  widgets.IntText(\n",
    "    value=2,\n",
    "    min=2,\n",
    "    max=5.0,\n",
    "    description=\"r\",layout=widgets.Layout(width='50%', height='80px'))\n",
    "  ,widgets.Button(\n",
    "    description=\"submit\")]\n",
    "\n",
    "def updateplot(v,objects,status_label):\n",
    "  init = []\n",
    "  rates = []\n",
    "  for ind_,obj in enumerate(objects):\n",
    "    if ind_ < len(objects)-1:\n",
    "      init.append(obj[0].value)\n",
    "    else:\n",
    "      if sum(init)>1:\n",
    "        status_label.value = \"Initial rates should sum to <1\"\n",
    "        return\n",
    "      else:\n",
    "        status_label.value = \"\"\n",
    "      init.append(1-sum(init))\n",
    "    rate_ = []\n",
    "    for j in range(1,len(objects)):\n",
    "      rate_.append(obj[j].value)\n",
    "    if sum(rate_)>1:\n",
    "      status_label.value = \"sum of mutation rates should sum to <1\"\n",
    "      return\n",
    "    else:\n",
    "      status_label.value = \"\"\n",
    "    \n",
    "    rate_.append(1-sum(rate_))\n",
    "    rates.append(rate_)\n",
    "  init = np.asarray(init)\n",
    "  rates = np.asarray(rates)\n",
    "  twoCell(init,rates)\n",
    "  return\n",
    "\n",
    "def call_back_mute(count,objects,status_label,updateplot):\n",
    "  dsps = []\n",
    "  for i in range(count):\n",
    "    if i < count-1:\n",
    "      specie = [widgets.FloatSlider(\n",
    "      value=1.0/count,\n",
    "      min=0,\n",
    "      max=1.0,\n",
    "      step=0.01,\n",
    "      description=\"init \"+str(i+1),layout=widgets.Layout(width='100%', height='80px'))]\n",
    "    else:\n",
    "      specie = [widgets.Label(layout=widgets.Layout(width='100%', height='80px'))]\n",
    "\n",
    "    for j in range(count-1):\n",
    "      wid = widgets.FloatSlider(\n",
    "        value=1 if j == i else 0,\n",
    "        min=0,\n",
    "        max=1.0,\n",
    "        step=0.01,\n",
    "        description=\"rate_\"+str(i+1)+\"_\"+str(j+1),layout=widgets.Layout(width='100%', height='80px'))\n",
    "      wid.observe(updateplot,names='value')\n",
    "      specie.append(wid)\n",
    "      \n",
    "    specie[0].observe(updateplot,names='value')\n",
    "    box_h = widgets.HBox(specie,layout=widgets.Layout(width='100%', height='80px'))\n",
    "    objects.append(specie)\n",
    "    dsps.append(box_h)\n",
    "  status_label = widgets.Label()\n",
    "  box_v = widgets.VBox(dsps+[status_label],layout=widgets.Layout(width='100%', height='80px'))\n",
    "  \n",
    "  display(box_v)\n",
    "  updateplot(\"\")\n",
    "  return objects\n",
    "#items_mute[1].on_click(call_back_mute)\n",
    "\n",
    "#box_h = widgets.HBox(items_mute,layout=widgets.Layout(width='100%', height='80px'))\n",
    "#display(box_h)\n",
    "objects = []\n",
    "status_label = widgets.Label()\n",
    "_ = call_back_mute(2,objects,status_label,lambda x:updateplot(x,objects,status_label))"
   ]
  },
  {
   "cell_type": "markdown",
   "metadata": {},
   "source": [
    "## Multiple species."
   ]
  },
  {
   "cell_type": "code",
   "execution_count": 26,
   "metadata": {
    "scrolled": false,
    "slideshow": {
     "slide_type": "subslide"
    }
   },
   "outputs": [
    {
     "data": {
      "image/png": "[encoded data removed]",
      "text/plain": [
       "<matplotlib.figure.Figure at 0x7f743c4f2ac8>"
      ]
     },
     "metadata": {},
     "output_type": "display_data"
    }
   ],
   "source": [
    "objects_1 = []\n",
    "status_label_1 = widgets.Label()\n",
    "_ = call_back_mute(3,objects_1,status_label_1,lambda x:updateplot(x,objects_1,status_label_1))"
   ]
  },
  {
   "cell_type": "markdown",
   "metadata": {
    "slideshow": {
     "slide_type": "slide"
    }
   },
   "source": [
    "## Genomes are Sequences"
   ]
  },
  {
   "cell_type": "markdown",
   "metadata": {
    "slideshow": {
     "slide_type": "fragment"
    }
   },
   "source": [
    "### Quasispecies equation\n",
    "\\begin{align*}\n",
    "\\dot{x_i} =\\sum_{j=0}^{n} x_j ~ f_j ~ q_{ji} - \\phi x_i.\n",
    "\\end{align*}\n",
    "\n",
    "+ $x$: population ratio of type $i$.\n",
    "+ $f_i$: fitness for type $i$.\n",
    "+ $q_{ji}$: probability of mutation from type $j$ to $i$\n",
    "+ $q_{ji} = u^{h_ij}(1-u)^{L-h_{ij}}$  $~L:$ Length of genome. $~u:$ mutation prob. at one gene. "
   ]
  },
  {
   "cell_type": "code",
   "execution_count": 27,
   "metadata": {
    "collapsed": true,
    "slideshow": {
     "slide_type": "skip"
    }
   },
   "outputs": [],
   "source": [
    "fig = plt.figure()\n",
    "plt.close(fig)\n",
    "\n",
    "def genomeSequence(N,drich_alpha,point_mut):\n",
    "  np.random.seed(0)\n",
    "  clear_output(wait=True)\n",
    "  if point_mut is not None:\n",
    "    L,u = point_mut\n",
    "  t_f = 10 \n",
    "  dt = 0.1\n",
    "  \n",
    "  x_ = np.random.uniform(size=(N))\n",
    "  x_ = x_/x_.sum()\n",
    "\n",
    "  f = np.random.lognormal(size=(N))\n",
    "  \n",
    "  if drich_alpha is not None:\n",
    "    Q = np.zeros((N,N))\n",
    "    for j in range(N):    \n",
    "      Q[j,:] = np.random.dirichlet(np.roll(np.logspace(1,drich_alpha+1,N)[::-1], j), 1)\n",
    "  elif point_mut is not None:\n",
    "    Q = np.zeros((N,N))\n",
    "    for j in range(N):\n",
    "      for i in range(N):\n",
    "        Q[j,i] = (u**(np.abs(j-i)))*((1-u)**(L-np.abs(j-i)))\n",
    "  else:\n",
    "    print(\"One of the two arguments should not be None\")\n",
    "    return\n",
    "  \n",
    "  def int_(t,x):\n",
    "    x = np.asarray(x).reshape((x.shape[0],1))\n",
    "    dev = np.zeros(x.shape[0])\n",
    "    mean = f.dot(x)\n",
    "    for i in range(x.shape[0]):\n",
    "      for j in range(x.shape[0]):\n",
    "        dev[i] += f[j]*Q[j,i]*x[j]\n",
    "      dev[i] -= mean*x[i]\n",
    "    return dev\n",
    "\n",
    "  integ = integrate.ode(int_)\n",
    "  integ.set_integrator(\"dopri5\").set_initial_value(np.asarray(x_))\n",
    "  y = np.zeros((int(t_f/dt)+1,x_.shape[0]))\n",
    "  x = np.zeros((int(t_f/dt)+1,x_.shape[0]))\n",
    "  xdot = np.zeros((int(t_f/dt)+1,x_.shape[0]))\n",
    "\n",
    "  i = 0\n",
    "  while integ.successful() and integ.t<t_f:\n",
    "    y[i,:] = integ.y\n",
    "    x[i,:] = integ.t\n",
    "    xdot[i,:] = int_(integ.t,y[i,:])\n",
    "    integ.integrate(integ.t+dt)\n",
    "    i=i+1\n",
    "    \n",
    "  fig.clf()\n",
    "  \n",
    "  \n",
    "  ax = fig.gca()\n",
    "  with sns.color_palette(\"PuBuGn_d\",n_colors=2):\n",
    "    for ind_ in range(x.shape[1]):\n",
    "      ax.plot(x[:,ind_], y[:,ind_], label=(\"$f_%d$: %.2f\" % (ind_ +1,f[ind_])))\n",
    "  \n",
    "  ax.set_ylim(-0.1,1.1)\n",
    "  ax.set_xlabel(\"time\")\n",
    "  ax.set_ylabel(\"Quasi specie\")\n",
    "  \n",
    "  ax2 = ax.twinx()\n",
    "  with sns.color_palette(\"PuBuGn_d\",n_colors=2):\n",
    "    ax2.plot(np.arange(0,t_f+dt,dt),y.dot(f), label=\"fitness \",linestyle='-.')\n",
    "  ax2.set_ylabel('$f$', rotation=0)\n",
    "  ax2.set_ylim(0,3)\n",
    "  ax2.grid('off')\n",
    "  ax.legend(ncol=min(4,x.shape[1]))\n",
    "  ax2.legend(loc=4)\n",
    "  display(fig)\n",
    "  return"
   ]
  },
  {
   "cell_type": "code",
   "execution_count": 28,
   "metadata": {
    "slideshow": {
     "slide_type": "subslide"
    }
   },
   "outputs": [
    {
     "data": {
      "image/png": "[encoded data removed]",
      "text/plain": [
       "<matplotlib.figure.Figure at 0x7f743c558d30>"
      ]
     },
     "metadata": {},
     "output_type": "display_data"
    }
   ],
   "source": [
    "items_gene = [\n",
    "  widgets.IntSlider(\n",
    "    value=2,\n",
    "    min=2,\n",
    "    max=6,\n",
    "    description=\"# Genomes\",layout=widgets.Layout(width='80%', height='300px')),\n",
    "  widgets.IntSlider(\n",
    "    value=10,\n",
    "    min=7,\n",
    "    max=15,\n",
    "    description=\"Max Length\",layout=widgets.Layout(width='80%', height='230px')),\n",
    " widgets.FloatSlider(\n",
    "    value=0.1,\n",
    "    min=0.01,\n",
    "    max=0.3,\n",
    "    step=0.05,\n",
    "    description=\"u\",layout=widgets.Layout(width='80%', height='100px'))]\n",
    "\n",
    "def _GeneCall(v):\n",
    "   return genomeSequence(items_gene[0].value,None,(items_gene[1].value,items_gene[2].value))\n",
    "  \n",
    "box_h = widgets.VBox(items_gene,layout=widgets.Layout(width='100%', height='80px'))\n",
    "items_gene[0].observe(_GeneCall,names='value')\n",
    "items_gene[1].observe(_GeneCall,names='value')\n",
    "items_gene[2].observe(_GeneCall,names='value')\n",
    "display(box_h)\n",
    "_GeneCall(0)"
   ]
  },
  {
   "cell_type": "markdown",
   "metadata": {
    "slideshow": {
     "slide_type": "slide"
    }
   },
   "source": [
    "## Fitness Landscape"
   ]
  },
  {
   "cell_type": "markdown",
   "metadata": {
    "slideshow": {
     "slide_type": "fragment"
    }
   },
   "source": [
    "\\begin{align*}\n",
    "\\dot{x_0} =& x_0(f_0q-\\phi)\\\\\n",
    "\\dot{x_1} =& x_0f_0(1-q)+x_1-\\phi x_1\n",
    "\\end{align*}\n",
    "\n",
    "+ $q = (1-u)^L$: probability of exact copy of master genome.\n",
    "+ $u$: probability of a mutation on one gene.\n",
    "+ $L$: length of genome."
   ]
  },
  {
   "cell_type": "code",
   "execution_count": 29,
   "metadata": {
    "collapsed": true,
    "slideshow": {
     "slide_type": "-"
    }
   },
   "outputs": [],
   "source": [
    "fig = plt.figure()\n",
    "plt.close(fig)\n",
    "\n",
    "def genomeSequenceQ(f_0,u,L):\n",
    "  np.random.seed(0)\n",
    "  clear_output(wait=True)\n",
    "  t_f = 10 \n",
    "  dt = 0.1\n",
    "  \n",
    "  x_ = np.random.uniform(size=2)\n",
    "  x_ = x_/x_.sum()\n",
    "\n",
    "  f = np.array([f_0,1])\n",
    "  q = (1-u)**L\n",
    "  \n",
    "  def int_(t,x):\n",
    "    mean = f[0]*x[0]+f[1]*x[1]\n",
    "    dev = np.zeros(x.shape[0])\n",
    "    dev[0] = x[0]*(f[0]*q - mean)\n",
    "    dev[1] = x[0]*f[0]*(1-q)+x[1] - mean*x[1]\n",
    "    return dev\n",
    "\n",
    "  integ = integrate.ode(int_)\n",
    "  integ.set_integrator(\"dopri5\").set_initial_value(np.asarray(x_))\n",
    "  y = np.zeros((int(t_f/dt)+1,x_.shape[0]))\n",
    "  x = np.zeros((int(t_f/dt)+1,x_.shape[0]))\n",
    "  xdot = np.zeros((int(t_f/dt)+1,x_.shape[0]))\n",
    "\n",
    "  i = 0\n",
    "  while integ.successful() and integ.t<t_f:\n",
    "    y[i,:] = integ.y\n",
    "    x[i,:] = integ.t\n",
    "    xdot[i,:] = int_(integ.t,y[i,:])\n",
    "    integ.integrate(integ.t+dt)\n",
    "    i=i+1\n",
    "    \n",
    "  fig.clf()\n",
    "  ax = fig.gca()\n",
    "  with sns.color_palette(\"PuBuGn_d\",n_colors=2):\n",
    "    for ind_ in range(x.shape[1]):\n",
    "      ax.plot(x[:,ind_], y[:,ind_], label=(\"$f_%d$: %.2f\" % (ind_ ,f[ind_])))\n",
    "  \n",
    "  ax.set_ylim(-0.1,1.1)\n",
    "  ax.set_xlabel(\"time\")\n",
    "  ax.set_ylabel(\"Quasi specie\")\n",
    "  \n",
    "  ax2 = ax.twinx()\n",
    "  with sns.color_palette(\"PuBuGn_d\",n_colors=2):\n",
    "    ax2.plot(np.arange(0,t_f+dt,dt),y.dot(f), label=\"fitness \",linestyle='-.')\n",
    "  ax2.set_ylabel('$f$', rotation=0)\n",
    "  ax2.set_ylim(0,10)\n",
    "  ax2.grid('off')\n",
    "  ax.legend(ncol=min(4,x.shape[1]))\n",
    "  ax2.legend(loc=4)\n",
    "  display(fig)\n",
    "  return q"
   ]
  },
  {
   "cell_type": "code",
   "execution_count": 30,
   "metadata": {
    "scrolled": false,
    "slideshow": {
     "slide_type": "subslide"
    }
   },
   "outputs": [
    {
     "data": {
      "image/png": "[encoded data removed]",
      "text/plain": [
       "<matplotlib.figure.Figure at 0x7f7436419b70>"
      ]
     },
     "metadata": {},
     "output_type": "display_data"
    }
   ],
   "source": [
    "items_geneQ = [\n",
    "  widgets.IntSlider(\n",
    "    value=5,\n",
    "    min=2,\n",
    "    max=12,\n",
    "    description=\"Genome Length\",layout=widgets.Layout(width='50%', height='80px')),\n",
    "  widgets.FloatSlider(\n",
    "    value=0.05,\n",
    "    min=0.01,\n",
    "    max=0.8,\n",
    "    step = 0.05,\n",
    "    description=\"mutatation rate\",layout=widgets.Layout(width='50%', height='80px')),\n",
    " widgets.FloatSlider(\n",
    "    value=1,\n",
    "    min=0.0,\n",
    "    max=40,\n",
    "    step=0.05,\n",
    "    description=\"max_f\",layout=widgets.Layout(width='50%', height='80px'))]\n",
    "\n",
    "def _GeneCallQ(v):\n",
    "  q_ = genomeSequenceQ(items_geneQ[2].value,items_geneQ[1].value,items_geneQ[0].value)\n",
    "  label.value= \"f_0 q = %.2f\" % (q_*items_geneQ[2].value)\n",
    "  return\n",
    "\n",
    "  \n",
    "box_h = widgets.VBox(items_geneQ,layout=widgets.Layout(width='100%', height='120px'))\n",
    "label = widgets.Label()\n",
    "box_v = widgets.VBox([box_h,label])\n",
    "items_geneQ[0].observe(_GeneCallQ,names='value')\n",
    "items_geneQ[1].observe(_GeneCallQ,names='value')\n",
    "items_geneQ[2].observe(_GeneCallQ,names='value')\n",
    "display(box_v)\n",
    "_GeneCallQ(0)"
   ]
  },
  {
   "cell_type": "code",
   "execution_count": 31,
   "metadata": {
    "slideshow": {
     "slide_type": "subslide"
    }
   },
   "outputs": [
    {
     "data": {
      "text/html": [
       "\n",
       "<center><img height=\"100%\" width=\"100%\" src=\"./Nature-coop/mutation_rates.png\"/>\n",
       "</center>"
      ],
      "text/plain": [
       "<IPython.core.display.HTML object>"
      ]
     },
     "metadata": {},
     "output_type": "display_data"
    }
   ],
   "source": [
    "%%html\n",
    "\n",
    "<center><img height=\"100%\" width=\"100%\" src=\"./Nature-coop/mutation_rates.png\"/>\n",
    "</center>\n"
   ]
  },
  {
   "cell_type": "markdown",
   "metadata": {
    "slideshow": {
     "slide_type": "slide"
    }
   },
   "source": [
    "# Evolutionary Games"
   ]
  },
  {
   "cell_type": "markdown",
   "metadata": {
    "slideshow": {
     "slide_type": "fragment"
    }
   },
   "source": [
    "### Two player games\n",
    "\n",
    "\\begin{align*}\n",
    "\\dot{x_A} = x_A ~ [f_A(\\vec{x}) - \\phi ]\\\\\n",
    "\\dot{x_B} = x_B ~ [f_B(\\vec{x}) - \\phi ]\n",
    "\\end{align*}"
   ]
  },
  {
   "cell_type": "markdown",
   "metadata": {
    "slideshow": {
     "slide_type": "subslide"
    }
   },
   "source": [
    "\\begin{align*}\n",
    "f_A(\\vec{x}) = a~x_A+b~x_B\\\\\n",
    "f_B(\\vec{x}) = c~x_A+d~x_B\n",
    "\\end{align*}\n",
    "\n",
    "#### Payoff matrix:\n",
    "\n",
    "\\begin{align*}\n",
    "\\begin{pmatrix}\n",
    "    a &  b \\\\\n",
    "    c &  d \\\\\n",
    "  \\end{pmatrix}\n",
    "\\end{align*}\n",
    "\n",
    "In following demo you can determine values for $a, b, c$ and $d and see how their values change determine the outcome of the game. You can also run the demo with different number of players."
   ]
  },
  {
   "cell_type": "code",
   "execution_count": 32,
   "metadata": {
    "collapsed": true,
    "slideshow": {
     "slide_type": "skip"
    }
   },
   "outputs": [],
   "source": [
    "fig = plt.figure()\n",
    "plt.close(fig)\n",
    "\n",
    "def evolutionaryGame(x_,f,labels = None):\n",
    "  np.random.seed(0)\n",
    "  clear_output(wait=True)\n",
    "  t_f = 10 \n",
    "  dt = 0.1\n",
    "  x_ = np.asarray(x_)\n",
    "  x_ = np.atleast_2d(x_).T\n",
    "  f = np.asarray(f)\n",
    "  \n",
    "  def int_(t,x):\n",
    "    mean = x.T.dot(f.dot(x))\n",
    "    dev = x*(f.dot(x)-mean)\n",
    "    return dev\n",
    "\n",
    "  integ = integrate.ode(int_)\n",
    "  integ.set_integrator(\"dopri5\").set_initial_value(np.asarray(x_))\n",
    "  y = np.zeros((int(t_f/dt)+1,x_.shape[0]))\n",
    "  x = np.zeros((int(t_f/dt)+1,x_.shape[0]))\n",
    "  xdot = np.zeros((int(t_f/dt)+1,x_.shape[0]))\n",
    "\n",
    "  i = 0\n",
    "  while integ.successful() and integ.t<t_f:\n",
    "    y[i,:] = integ.y[:,0]\n",
    "    x[i,:] = integ.t\n",
    "    xdot[i,:] = int_(integ.t,y[i,:])\n",
    "    integ.integrate(integ.t+dt)\n",
    "    i=i+1\n",
    "    \n",
    "  fig.clf()\n",
    "  ax = fig.gca()\n",
    "  with sns.color_palette(\"PuBuGn_d\",n_colors=2):\n",
    "    for ind_ in range(x.shape[1]):\n",
    "      \n",
    "      ax.plot(x[:,ind_], y[:,ind_], label=\"Type: %d\" % (ind_+1) if labels is None else labels[ind_])\n",
    "  \n",
    "  ax.set_ylim(-0.1,1.1)\n",
    "  ax.set_xlabel(\"time\")\n",
    "  ax.set_ylabel(\"Quasi specie\")\n",
    "  ax.legend(ncol=min(4,x.shape[1]))\n",
    "  \n",
    "  display(fig)"
   ]
  },
  {
   "cell_type": "code",
   "execution_count": 33,
   "metadata": {
    "slideshow": {
     "slide_type": "subslide"
    }
   },
   "outputs": [
    {
     "data": {
      "image/png": "[encoded data removed]",
      "text/plain": [
       "<matplotlib.figure.Figure at 0x7f743c4f2ac8>"
      ]
     },
     "metadata": {},
     "output_type": "display_data"
    }
   ],
   "source": [
    "items_strat = [\n",
    "  widgets.IntText(\n",
    "    value=2,\n",
    "    min=2,\n",
    "    max=5.0,\n",
    "    description=\"r\",layout=widgets.Layout(width='50%', height='80px'))\n",
    "  ,widgets.Button(\n",
    "    description=\"submit\")]\n",
    "\n",
    "def _EvolutionaryGames(v):\n",
    "  init = []\n",
    "  payoff = []\n",
    "  for ind_,obj in enumerate(objects_strat):\n",
    "    if ind_ < len(objects_strat)-1:\n",
    "      init.append(obj[0].value)\n",
    "    else:\n",
    "      if sum(init)>1:\n",
    "        status_labelstrat.value = \"Initial rates should sum to <1\"\n",
    "        return\n",
    "      else:\n",
    "        status_labelstrat.value = \"\"\n",
    "      init.append(1-sum(init))\n",
    "    rate_ = []\n",
    "    for j in range(0,len(objects_strat)):\n",
    "      rate_.append(obj[j+1].value)\n",
    "    payoff.append(rate_)\n",
    "  init = np.asarray(init)\n",
    "  payoff = np.asarray(payoff)\n",
    "  if len(objects_strat)==3:\n",
    "    status_labelstrat.value = \"Determinant: %.2f\" % linalg.det(payoff)\n",
    "  return evolutionaryGame(init,payoff)\n",
    "\n",
    "\n",
    "objects_strat = []\n",
    "status_labelstrat = None\n",
    "box_vstrat = None\n",
    "\n",
    "def call_back_mute(v):\n",
    "  global box_vstrat, status_labelstrat\n",
    "  if box_vstrat is not None:\n",
    "    box_vstrat.close()\n",
    "\n",
    "  count = items_strat[0].value\n",
    "  if count <2:\n",
    "    return\n",
    "  dsps = []\n",
    "  objects_strat[:] = []\n",
    "  for i in range(count):\n",
    "    if i < count-1:\n",
    "      specie = [widgets.FloatSlider(\n",
    "      value=1.0/count,\n",
    "      min=0,\n",
    "      max=1.0,\n",
    "      step=0.01,\n",
    "      description=\"init \"+str(i+1),layout=widgets.Layout(width='100%', height='80px'))]\n",
    "    else:\n",
    "      specie = [widgets.Label(layout=widgets.Layout(width='100%', height='80px'))]\n",
    "\n",
    "    for j in range(count):\n",
    "      wid = widgets.IntSlider(\n",
    "        value=1,\n",
    "        min=-1,\n",
    "        max=5.0,\n",
    "        step=1,\n",
    "        description=str(chr(96+i*count+j+1)),layout=widgets.Layout(width='100%', height='80px'))\n",
    "      wid.observe(_EvolutionaryGames,names='value')\n",
    "      specie.append(wid)\n",
    "      \n",
    "    specie[0].observe(_EvolutionaryGames,names='value')\n",
    "    box_h = widgets.HBox(specie,layout=widgets.Layout(width='100%', height='80px'))\n",
    "    objects_strat.append(specie)\n",
    "    dsps.append(box_h)\n",
    "\n",
    "  status_labelstrat = widgets.Label()\n",
    "  box_vstrat = widgets.VBox(dsps+[status_labelstrat],layout=widgets.Layout(width='100%', height='80px'))\n",
    "  \n",
    "  display(box_vstrat)\n",
    "  _EvolutionaryGames(\"\")\n",
    "\n",
    "\n",
    "items_strat[1].on_click(call_back_mute)\n",
    "\n",
    "box_h = widgets.HBox(items_strat,layout=widgets.Layout(width='100%', height='80px'))\n",
    "display(box_h)"
   ]
  },
  {
   "cell_type": "markdown",
   "metadata": {
    "collapsed": true,
    "slideshow": {
     "slide_type": "subslide"
    }
   },
   "source": [
    "## Prisoners Dillema\n",
    "\n",
    "#### Payoff matrix:\n",
    "\n",
    "\\begin{align*}\n",
    "\\begin{pmatrix}\n",
    "   & C & D\\\\\n",
    "  C & 3 &  0 \\\\\n",
    "  D & 5 &  1 \\\\\n",
    "  \\end{pmatrix}\n",
    "\\end{align*}\n",
    "\n",
    "The *Nash equilibria* in this game is to always defect (D,D)."
   ]
  },
  {
   "cell_type": "code",
   "execution_count": 39,
   "metadata": {
    "slideshow": {
     "slide_type": "subslide"
    }
   },
   "outputs": [
    {
     "data": {
      "image/png": "[encoded data removed]",
      "text/plain": [
       "<matplotlib.figure.Figure at 0x7f743c4f2ac8>"
      ]
     },
     "metadata": {},
     "output_type": "display_data"
    }
   ],
   "source": [
    "R = 3\n",
    "S = 0\n",
    "T = 5\n",
    "P = 1\n",
    "\n",
    "payoff = [[R,S],[T,P]]\n",
    "evolutionaryGame([0.6,0.4],payoff,[\"Cooperate\",\"Defect\"])"
   ]
  },
  {
   "cell_type": "markdown",
   "metadata": {
    "slideshow": {
     "slide_type": "subslide"
    }
   },
   "source": [
    "## Direct Respirocity vs. Always Defect.\n",
    "### Tomorrow never dies!\n",
    "\n",
    "#### Payoff matrix:\n",
    "\n",
    "\\begin{align*}\n",
    "\\begin{pmatrix}\n",
    "   & GRIM & ALLD\\\\\n",
    "  GRIM & m3 &  0+(m-1)*1 \\\\\n",
    "  ALLD & 5+(m-1)*1 &  m1 \\\\\n",
    "  \\end{pmatrix}\n",
    "\\end{align*}\n",
    "\n",
    "Where $m$ is expected days which the game will be repeated.\n",
    "\n",
    "if $3m > 5+(m-1)$ then GRIM is a strict Nash equilibrium when competing with ALLD. \n",
    "\n",
    "In terms of evolutionary dynamics, if the whole population uses GRIM, then ALLD cannot invade: selection opposes ALLD at low frequency. GRIM is stable against invasion by ALLD if the number of rounds, $m$, exceeds a critical value:\n",
    "\n",
    "\\begin{align*}\n",
    "m> \\frac{T-P}{R-P} = \\frac{4}{2} = 2\n",
    "\\end{align*}\n",
    "\n",
    "In following widget you can play with the value of $m$ to see how the two strategies perform."
   ]
  },
  {
   "cell_type": "code",
   "execution_count": 44,
   "metadata": {
    "slideshow": {
     "slide_type": "fragment"
    }
   },
   "outputs": [
    {
     "data": {
      "image/png": "[encoded data removed]",
      "text/plain": [
       "<matplotlib.figure.Figure at 0x7f743c4f2ac8>"
      ]
     },
     "metadata": {},
     "output_type": "display_data"
    }
   ],
   "source": [
    "def _EvolutionaryGamesProb(v):\n",
    "  R = 3\n",
    "  S = 0\n",
    "  T = 5\n",
    "  P = 1\n",
    "  m_ = prob_tomorrow.value\n",
    "  payoff = [[R*m_,S+(m_-1)*P],[T+(m_-1)*P,m_*P]]\n",
    "  return evolutionaryGame([0.99,0.01],payoff,[\"GRIM\",\"ALLD\"])\n",
    "\n",
    "prob_tomorrow = widgets.FloatSlider(\n",
    "                value=1,\n",
    "                min=0,\n",
    "                max=10.0,\n",
    "                description=\"m_\",layout=widgets.Layout(width='100%', height='80px'))\n",
    "\n",
    "prob_tomorrow.observe(_EvolutionaryGamesProb,names=\"value\")\n",
    "display(prob_tomorrow)"
   ]
  },
  {
   "cell_type": "markdown",
   "metadata": {},
   "source": [
    "## Reactive strategies \n",
    "\n",
    "### Tit-for-Tat.\n",
    "\n",
    "#### Payoff matrix:\n",
    "\n",
    "\\begin{align*}\n",
    "\\begin{pmatrix}\n",
    "   & CC & CD & DC & DD\\\\\n",
    "  CC & p_1p_2 &  p_1(1-p_2) & (1-p_1)p_2 & (1-p_1)(1-p_2) \\\\\n",
    "  CD & q_1p_2 &  q_1(1-p_2) & (1-q_1)p_2 & (1-q_1)(1-p_2) \\\\\n",
    "  DC & p_1q_2 &  p_1(1-q_2) & (1-p_1)q_2 & (1-p_1)(1-q_2) \\\\\n",
    "  DD & q_1q_2 &  q_1(1-q_2) & (1-q_1)q_2 & (1-q_1)(1-q_2) \\\\\n",
    "  \\end{pmatrix}\n",
    "\\end{align*}\n",
    "\n",
    "+ $p_1$: probability that player 1 will cooperate given that player 2 cooperated in previous round.\n",
    "+ $p_2$: probability that player 2 will cooperate given that player 1 cooperated in previous round.\n",
    "+ $q_1$: probability that player 1 will cooperate given that player 2 *defected* in previous round.\n",
    "+ $q_2$: probability that player 2 will cooperate given that player 1 *defected* in previous round."
   ]
  },
  {
   "cell_type": "code",
   "execution_count": null,
   "metadata": {
    "collapsed": true
   },
   "outputs": [],
   "source": []
  },
  {
   "cell_type": "code",
   "execution_count": 45,
   "metadata": {
    "scrolled": false,
    "slideshow": {
     "slide_type": "subslide"
    }
   },
   "outputs": [
    {
     "data": {
      "image/png": "[encoded data removed]",
      "text/plain": [
       "<matplotlib.figure.Figure at 0x7f743c4f2ac8>"
      ]
     },
     "metadata": {},
     "output_type": "display_data"
    }
   ],
   "source": [
    "p_1 = widgets.FloatSlider(\n",
    "                value=0.5,\n",
    "                min=0,\n",
    "                max=1.0,\n",
    "                description=\"p_1\",layout=widgets.Layout(width='100%', height='80px'))\n",
    "q_1 = widgets.FloatSlider(\n",
    "                value=0.5,\n",
    "                min=0,\n",
    "                max=1.0,\n",
    "                description=\"q_1\",layout=widgets.Layout(width='100%', height='80px'))\n",
    "\n",
    "user_1 = widgets.HBox([p_1,q_1],layout=widgets.Layout(width='100%', height='80px'))\n",
    "\n",
    "p_2 = widgets.FloatSlider(\n",
    "                value=0.5,\n",
    "                min=0,\n",
    "                max=1.0,\n",
    "                description=\"p_2\",layout=widgets.Layout(width='100%', height='80px'))\n",
    "\n",
    "q_2 = widgets.FloatSlider(\n",
    "                value=0.5,\n",
    "                min=0,\n",
    "                max=1.0,\n",
    "                description=\"q_2\",layout=widgets.Layout(width='100%', height='80px'))\n",
    "\n",
    "user_2 = widgets.HBox([p_2,q_2],layout=widgets.Layout(width='100%', height='80px'))\n",
    "\n",
    "box_pq = widgets.VBox([user_1,user_2],layout=widgets.Layout(width='100%', height='80px'))\n",
    "\n",
    "def compute_expected_dist(p_1_v,p_2_v,q_1_v,q_2_v):\n",
    "  v_ = np.array([[p_1_v*p_2_v, p_1_v*(1-p_2_v), (1-p_1_v)*p_2_v, (1-p_1_v)*(1-p_2_v)],\n",
    "                 [q_1_v*p_2_v, q_1_v*(1-p_2_v), (1-q_1_v)*p_2_v, (1-q_1_v)*(1-p_2_v)],\n",
    "                 [p_1_v*q_2_v, p_1_v*(1-q_2_v), (1-p_1_v)*q_2_v, (1-p_1_v)*(1-q_2_v)],\n",
    "                 [q_1_v*q_2_v, q_1_v*(1-q_2_v), (1-q_1_v)*q_2_v, (1-q_1_v)*(1-q_2_v)]]).T\n",
    "  \n",
    "  w,vl = linalg.eig(v_)\n",
    "  return vl[:,0].real\n",
    "\n",
    "def _EvolutionaryGamesGen(v):\n",
    "  p_1_v = p_1.value\n",
    "  p_2_v = p_2.value\n",
    "  q_1_v = q_1.value\n",
    "  q_2_v = q_2.value\n",
    "  \n",
    "  p_1_1 = compute_expected_dist(p_1_v,p_1_v,q_1_v,q_1_v)\n",
    "  p_1_2 = compute_expected_dist(p_1_v,p_2_v,q_1_v,q_2_v)\n",
    "  p_2_1 = compute_expected_dist(p_2_v,p_1_v,q_2_v,q_1_v)\n",
    "  p_2_2 = compute_expected_dist(p_2_v,p_2_v,q_2_v,q_2_v)\n",
    "  \n",
    "  R = 3\n",
    "  S = 0\n",
    "  T = 5\n",
    "  P = 1\n",
    "  #print(p_1_1)\n",
    "  payoff = [[R*p_1_1[0]+S*p_1_1[1]+T*p_1_1[2]+P**p_1_1[3], R*p_1_2[0]+S*p_1_2[1]+T*p_1_2[2]+P**p_1_2[3]],\n",
    "            [R*p_2_1[0]+S*p_2_1[1]+T*p_2_1[2]+P**p_2_1[3], R*p_2_2[0]+S*p_2_2[1]+T*p_2_2[2]+P**p_2_2[3]]]\n",
    "  payoff = np.array(payoff)\n",
    "  \n",
    "  return evolutionaryGame([0.4,0.6],payoff,['Policy 1','Policy 2'])\n",
    "\n",
    "p_1.observe(_EvolutionaryGamesGen,names=\"value\")\n",
    "p_2.observe(_EvolutionaryGamesGen,names=\"value\")\n",
    "q_1.observe(_EvolutionaryGamesGen,names=\"value\")\n",
    "q_2.observe(_EvolutionaryGamesGen,names=\"value\")\n",
    "\n",
    "display(box_pq)"
   ]
  }
 ],
 "metadata": {
  "annotations": {
   "date": "2017-07-10",
   "parent": "./misc",
   "tags": [
    "Evolution",
    "Game Theory"
   ],
   "title": "Hacking into Evolutionary Dynamics"
  },
  "celltoolbar": "Slideshow",
  "hide_input": false,
  "kernelspec": {
   "display_name": "Python 3.6 ana",
   "language": "python",
   "name": "python36"
  },
  "language_info": {
   "codemirror_mode": {
    "name": "ipython",
    "version": 3
   },
   "file_extension": ".py",
   "mimetype": "text/x-python",
   "name": "python",
   "nbconvert_exporter": "python",
   "pygments_lexer": "ipython3",
   "version": "3.6.0"
  },
  "widgets": {
   "state": {
    "00a6f91c669945f3b9a80e253955704b": {
     "views": [
      {
       "cell_index": 11
      }
     ]
    },
    "2fe7d5f55765418c9063af58da81cd48": {
     "views": [
      {
       "cell_index": 30
      }
     ]
    },
    "32465a7be8c24ded99c6a00566e3e165": {
     "views": [
      {
       "cell_index": 12
      }
     ]
    },
    "40cfd3628faf44ab9d7cf1bb515f0671": {
     "views": [
      {
       "cell_index": 31
      }
     ]
    },
    "5c9763fb9cfb4136af8fcffb49e41700": {
     "views": [
      {
       "cell_index": 26
      }
     ]
    },
    "700c14227229426589a83bf096f79c2a": {
     "views": [
      {
       "cell_index": 29
      }
     ]
    },
    "7c4d0fb434914076b34353d318656b3f": {
     "views": [
      {
       "cell_index": 16
      }
     ]
    },
    "a12236660d394b29b36eedd549c94db2": {
     "views": [
      {
       "cell_index": 7
      }
     ]
    },
    "caa40a8fac954d7db008b6e2a3328401": {
     "views": [
      {
       "cell_index": 26
      }
     ]
    },
    "ff4d7a3749074d59b1f0737ee6c3a34c": {
     "views": [
      {
       "cell_index": 20
      }
     ]
    }
   },
   "version": "1.2.0"
  }
 },
 "nbformat": 4,
 "nbformat_minor": 1
}
